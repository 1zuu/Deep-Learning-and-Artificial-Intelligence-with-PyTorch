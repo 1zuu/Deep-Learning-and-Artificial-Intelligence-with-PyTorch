{
 "cells": [
  {
   "cell_type": "code",
   "execution_count": null,
   "id": "8525d0de-77fb-4702-8c1f-74245c8e77df",
   "metadata": {},
   "outputs": [],
   "source": [
    "import torch\n",
    "import numpy as np\n",
    "import pandas as pd\n",
    "import torch.nn as nn\n",
    "import matplotlib.pyplot as plt"
   ]
  },
  {
   "cell_type": "code",
   "execution_count": 1,
   "id": "b55017f0-33ee-4030-aafc-519b4171a9cb",
   "metadata": {},
   "outputs": [],
   "source": [
    "\n",
    "def load_data():\n",
    "    df = pd.read_csv('transistors.csv')\n",
    "\n",
    "    X = df['X'].values\n",
    "    Y = df['Y'].values\n",
    "    return X, Y\n",
    "\n",
    "def plot_data(X, Y):\n",
    "    plt.scatter(X, Y, color='r')\n",
    "    plt.xlabel('year')\n",
    "    plt.ylabel('growth')\n",
    "    plt.title('Moore\\'s Law')\n",
    "    plt.show()"
   ]
  },
  {
   "cell_type": "code",
   "execution_count": 2,
   "id": "b0c3b179-69c2-4e9a-b30f-bd797f64abf8",
   "metadata": {},
   "outputs": [],
   "source": [
    "\n",
    "class regression(object):\n",
    "    def __init__(self):\n",
    "        self.device = torch.device(\"cuda:0\" if torch.cuda.is_available() else \"cpu\")\n",
    "\n",
    "        self.model = nn.Linear(1,1).to(self.device)\n",
    "        self.criterion = nn.MSELoss()\n",
    "        self.optimizer = torch.optim.SGD(\n",
    "                            self.model.parameters(),\n",
    "                            lr = 0.001\n",
    "                            )\n",
    "        \n",
    "        X, Y = load_data()\n",
    "        plot_data(X, Y)\n",
    "\n",
    "        X = X.reshape(-1,1)\n",
    "        Y = Y.reshape(-1,1)\n",
    "\n",
    "        ################### Convert Data Distribution to Linear ###################\n",
    "        X = np.log(X)\n",
    "        Y = np.log(Y)\n",
    "\n",
    "        self.X = torch.from_numpy(X.astype(np.float32)).to(self.device)\n",
    "        self.Y = torch.from_numpy(Y.astype(np.float32)).to(self.device)\n",
    "\n",
    "    def train(self):\n",
    "        n_epoches = 30\n",
    "        losses = []\n",
    "        for _ in range(n_epoches):\n",
    "            self.optimizer.zero_grad() # Avoid accumilating gradients\n",
    "\n",
    "            P = self.model(self.X)\n",
    "            loss = self.criterion(self.Y, P)\n",
    "\n",
    "            loss.backward()\n",
    "            self.optimizer.step()\n",
    "\n",
    "            loss_np = loss.detach().numpy().squeeze()\n",
    "            losses.append(loss_np)\n",
    "\n",
    "        plt.plot(losses)\n",
    "        plt.xlabel('epoch')\n",
    "        plt.ylabel('loss')\n",
    "        plt.title('Loss')\n",
    "        plt.show()\n",
    "\n",
    "    def predict(self):\n",
    "\n",
    "        P = self.model(self.X)\n",
    "\n",
    "        # This will leads to an Error\n",
    "        P1 = P.numpy().squeeze()\n",
    "\n",
    "        # Method 1\n",
    "        P1 = P.detach().numpy().squeeze()\n",
    "\n",
    "        # Method 2\n",
    "        with torch.no_grad():\n",
    "            P2 = self.model(self.X).numpy().squeeze()"
   ]
  },
  {
   "cell_type": "code",
   "execution_count": null,
   "id": "f51d369c-1874-4111-8d6b-6b3d9d12945c",
   "metadata": {},
   "outputs": [],
   "source": [
    "regression = regression()\n",
    "regression.train()"
   ]
  }
 ],
 "metadata": {
  "kernelspec": {
   "display_name": "Python 3",
   "language": "python",
   "name": "python3"
  },
  "language_info": {
   "codemirror_mode": {
    "name": "ipython",
    "version": 3
   },
   "file_extension": ".py",
   "mimetype": "text/x-python",
   "name": "python",
   "nbconvert_exporter": "python",
   "pygments_lexer": "ipython3",
   "version": "3.7.11"
  }
 },
 "nbformat": 4,
 "nbformat_minor": 5
}
